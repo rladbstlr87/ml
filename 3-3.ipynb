{
 "cells": [
  {
   "cell_type": "markdown",
   "id": "58a254c9-e7ee-4287-900f-950222ada8a3",
   "metadata": {},
   "source": [
    "## 규제\n",
    "- 과대적합을 해결하는 방법\n",
    "- 데이터들간의 점을 찍으면 데이터 그 자체가 되며 다른 데이터는 정확도와의 차이(오답률)가 더 커지게 된다\n",
    "![과대적합,과소적합](https://blog.kakaocdn.net/dn/NvnvN/btskaBOB42b/q5vveUVhzPKZpVH3lSNgA0/img.png)\n",
    "- 과소fit, fit, 과대fit"
   ]
  },
  {
   "cell_type": "code",
   "execution_count": 52,
   "id": "5879e7b3-69bc-4f79-8c1a-16da21e0423e",
   "metadata": {},
   "outputs": [],
   "source": [
    "import numpy as np\n",
    "import pandas as pd\n",
    "import matplotlib.pyplot as plt\n",
    "from sklearn.preprocessing import PolynomialFeatures, StandardScaler\n",
    "from sklearn.pipeline import make_pipeline"
   ]
  },
  {
   "cell_type": "code",
   "execution_count": 51,
   "id": "945cc863-3d21-4024-9e10-8c2bc560257e",
   "metadata": {},
   "outputs": [],
   "source": [
    "df = pd.read_csv('data/Fish.csv')\n",
    "perch_df = df.loc[df['Species'] == 'Perch']\n",
    "perch_full = perch_df[['Length2', 'Height', 'Width']]\n",
    "perch_weight = perch_df[['Weight']]\n",
    "from sklearn.model_selection import train_test_split\n",
    "\n",
    "x_input, y_input, x_target, y_target = train_test_split(perch_full, perch_weight)\n",
    "\n",
    "poly = PolynomialFeatures(include_bias=False)"
   ]
  },
  {
   "cell_type": "code",
   "execution_count": 29,
   "id": "931ae693-3059-42bf-afee-e9bc067b4c5c",
   "metadata": {},
   "outputs": [
    {
     "data": {
      "text/plain": [
       "array([[ 3.,  5.,  9., 15., 25.]])"
      ]
     },
     "execution_count": 29,
     "metadata": {},
     "output_type": "execute_result"
    }
   ],
   "source": [
    "poly.fit([[3, 5]])\n",
    "poly.transform([[3, 5]])"
   ]
  },
  {
   "cell_type": "code",
   "execution_count": 30,
   "id": "933ee1dd-e4cc-45a8-94ac-7b95045e63b3",
   "metadata": {},
   "outputs": [],
   "source": [
    "poly = PolynomialFeatures(include_bias=False)\n",
    "poly.fit(x_input)\n",
    "x_poly = poly.transform(x_input)\n",
    "from sklearn.linear_model import LinearRegression\n",
    "\n",
    "lr = LinearRegression()\n",
    "lr.fit(x_poly, x_target) # 특성을 기반으로 x_target(무게)를 찾는다\n",
    "lr.score(x_poly, x_target)\n",
    "y_poly = poly.transform(y_input)"
   ]
  },
  {
   "cell_type": "code",
   "execution_count": 31,
   "id": "ce43dacc-a67b-490f-ac88-0d29fd4ab231",
   "metadata": {},
   "outputs": [],
   "source": [
    "from sklearn.preprocessing import StandardScaler\n",
    "ss = StandardScaler()\n",
    "ss.fit(x_poly)\n",
    "\n",
    "train_scaled = ss.transform(x_poly)\n",
    "test_scaled = ss.transform(y_poly)"
   ]
  },
  {
   "cell_type": "markdown",
   "id": "c68080bb-6519-4ecc-a355-e2c09031b232",
   "metadata": {},
   "source": [
    "### 릿지(ridge)\n",
    "- 계수를 제곱한 값을 기준으로 규제를 적용한다"
   ]
  },
  {
   "cell_type": "code",
   "execution_count": 33,
   "id": "be2d38c6-2a6e-47a6-96e8-719f6776f01a",
   "metadata": {},
   "outputs": [
    {
     "name": "stdout",
     "output_type": "stream",
     "text": [
      "0.9855770519780835\n",
      "0.9846284871464777\n"
     ]
    }
   ],
   "source": [
    "from sklearn.linear_model import Ridge\n",
    "\n",
    "ridge = Ridge()\n",
    "ridge.fit(train_scaled, x_target)\n",
    "\n",
    "print(ridge.score(train_scaled, x_target))\n",
    "print(ridge.score(test_scaled, y_target))\n",
    "# 필요없다고 생각되는 컬럼을 제거(?)하는 과정"
   ]
  },
  {
   "cell_type": "markdown",
   "id": "ce645b78-946a-4a86-a804-02a38f91482b",
   "metadata": {
    "jupyter": {
     "source_hidden": true
    }
   },
   "source": [
    "- 규제의 강도를 정할 수 있다\n",
    "- ridge = Ridge(alpha=1) 알파값에 변동을 줌으로써 강도를 정하고,\n",
    "- 알파의 최적값도 찾을 수 있고 찾아야 한다\n",
    "- train과 test가 가장 근접하게 하는 알파값이 좋음"
   ]
  },
  {
   "cell_type": "markdown",
   "id": "de8462c6-2bfa-4365-9488-d4eea10b827f",
   "metadata": {},
   "source": [
    "### 라쏘(lasso)\n",
    "- |a|x 처럼 절대값을 기준으로 규제를 적용한다"
   ]
  },
  {
   "cell_type": "code",
   "execution_count": 34,
   "id": "2a8f6cfd-0e8e-463a-b849-83451b77373c",
   "metadata": {},
   "outputs": [
    {
     "name": "stdout",
     "output_type": "stream",
     "text": [
      "0.9868611302301901\n",
      "0.9843526126346485\n"
     ]
    },
    {
     "name": "stderr",
     "output_type": "stream",
     "text": [
      "C:\\Users\\1-04\\Desktop\\DAMF2\\ML\\venv\\Lib\\site-packages\\sklearn\\linear_model\\_coordinate_descent.py:695: ConvergenceWarning: Objective did not converge. You might want to increase the number of iterations, check the scale of the features or consider increasing regularisation. Duality gap: 7.974e+02, tolerance: 4.851e+02\n",
      "  model = cd_fast.enet_coordinate_descent(\n"
     ]
    }
   ],
   "source": [
    "from sklearn.linear_model import Lasso\n",
    "\n",
    "lasso = Lasso()\n",
    "lasso.fit(train_scaled, x_target)\n",
    "\n",
    "print(lasso.score(train_scaled, x_target))\n",
    "print(lasso.score(test_scaled, y_target))"
   ]
  },
  {
   "cell_type": "markdown",
   "id": "92edea2c-78fc-4419-89b9-7bfba3fa694a",
   "metadata": {},
   "source": [
    "라쏘도 알파값으로 강도조절 가능"
   ]
  },
  {
   "cell_type": "code",
   "execution_count": 54,
   "id": "39dd3164-b987-4464-b98d-1c5123eabf2e",
   "metadata": {},
   "outputs": [],
   "source": [
    "X = df[['Length1']].values  # 특성 (길이)\n",
    "y = df['Weight'].values     # 목표값 (무게)\n",
    "\n",
    "# 데이터 정렬 (시각화를 위해 필요)\n",
    "sorted_idx = np.argsort(X[:, 0])\n",
    "X = X[sorted_idx]\n",
    "y = y[sorted_idx]"
   ]
  },
  {
   "cell_type": "code",
   "execution_count": 61,
   "id": "5196f773-c90f-4387-b7a9-e6711ece8805",
   "metadata": {},
   "outputs": [],
   "source": [
    "degree = 3\n",
    "alpha = 0.1\n",
    "\n",
    "# 다항 회귀 + Lasso 파이프라인 생성\n",
    "model = make_pipeline(PolynomialFeatures(degree), StandardScaler(), Lasso(alpha=alpha, max_iter=10000))\n",
    "\n",
    "# 모델 학습\n",
    "model.fit(X, y)\n",
    "\n",
    "# 예측값 계산\n",
    "y_pred = model.predict(X)\n"
   ]
  },
  {
   "cell_type": "code",
   "execution_count": 60,
   "id": "e029eac1-a54c-4336-9948-3381765e584f",
   "metadata": {},
   "outputs": [
    {
     "data": {
      "text/plain": [
       "Text(0.5, 1.0, 'Polynomial Regression with Lasso (Degree=3, Alpha=0.1)')"
      ]
     },
     "execution_count": 60,
     "metadata": {},
     "output_type": "execute_result"
    },
    {
     "data": {
      "image/png": "[encoded data removed]",
      "text/plain": [
       "<Figure size 640x480 with 1 Axes>"
      ]
     },
     "metadata": {},
     "output_type": "display_data"
    }
   ],
   "source": [
    "plt.scatter(X, y, color='blue', label='Actual Data')  # 원본 데이터 산점도\n",
    "plt.plot(X, y_pred, color='red', linewidth=2, label='Lasso Polynomial Regression')  # 예측 곡선\n",
    "plt.xlabel('Length1')\n",
    "plt.ylabel('Weight')\n",
    "plt.title(f'Polynomial Regression with Lasso (Degree={degree}, Alpha={alpha})')"
   ]
  },
  {
   "cell_type": "code",
   "execution_count": null,
   "id": "15b15709-3338-4efb-8b83-03456fa3a08c",
   "metadata": {},
   "outputs": [],
   "source": []
  }
 ],
 "metadata": {
  "kernelspec": {
   "display_name": "Python 3 (ipykernel)",
   "language": "python",
   "name": "python3"
  },
  "language_info": {
   "codemirror_mode": {
    "name": "ipython",
    "version": 3
   },
   "file_extension": ".py",
   "mimetype": "text/x-python",
   "name": "python",
   "nbconvert_exporter": "python",
   "pygments_lexer": "ipython3",
   "version": "3.13.2"
  }
 },
 "nbformat": 4,
 "nbformat_minor": 5
}
