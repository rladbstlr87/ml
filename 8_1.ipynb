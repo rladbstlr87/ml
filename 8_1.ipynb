{
  "nbformat": 4,
  "nbformat_minor": 0,
  "metadata": {
    "colab": {
      "provenance": []
    },
    "kernelspec": {
      "name": "python3",
      "display_name": "Python 3"
    },
    "language_info": {
      "name": "python"
    }
  },
  "cells": [
    {
      "cell_type": "markdown",
      "source": [
        "# 합성곱 신경망(CNN)\n",
        "- 인근 값들을 묶어서 계산해볼까 하는 뉴럴 네트워크\n",
        "- 특히 사진은 인근 값들이 연관성이 있기 때문에..\n",
        "- 필터 (혹은 커널)을 하나의 묶음으로 본다"
      ],
      "metadata": {
        "id": "B65Y4bTRo6QG"
      }
    },
    {
      "cell_type": "markdown",
      "source": [
        "## 패딩\n",
        "여유공간을 둬서 학습을 여러번 할 수 있게 만든 것\n",
        "\n",
        "![패딩](https://encrypted-tbn0.gstatic.com/images?q=tbn:ANd9GcTAL2JGTMS9y55Iq6KgAkjGbvL4alzpY6IZdg&s)"
      ],
      "metadata": {
        "id": "lp7GusbHryRM"
      }
    },
    {
      "cell_type": "code",
      "execution_count": null,
      "metadata": {
        "id": "KPwR05dLo2ZK"
      },
      "outputs": [],
      "source": []
    }
  ]
}