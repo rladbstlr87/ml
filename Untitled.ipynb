{
 "cells": [
  {
   "cell_type": "code",
   "execution_count": 13,
   "id": "dd3a3223-16c8-4f44-b156-84a7968b5637",
   "metadata": {},
   "outputs": [],
   "source": [
    "import numpy as np\n",
    "import pandas as pd\n",
    "from sklearn.model_selection import train_test_split\n",
    "tts = train_test_split\n",
    "from sklearn.neighbors import KNeighborsClassifier\n",
    "kn = KNeighborsClassifier()\n",
    "import matplotlib.pyplot as plt\n",
    "import seaborn as sns\n",
    "\n",
    "df = sns.load_dataset('penguins')\n",
    "\n",
    "cond = df['species'].isin(['Adelie', 'Gentoo'])\n",
    "peng_data = df.loc[cond, ['body_mass_g', 'flipper_length_mm']]\n",
    "peng_target = df.loc[cond, ['species']]\n",
    "x_input, y_input, x_target, y_target = tts(peng_data, peng_target)\n",
    "\n",
    "kn.fit(x_input, x_target['species'])"
   ]
  },
  {
   "cell_type": "code",
   "execution_count": 14,
   "id": "17a4ef56-2e75-44ba-b0d8-6eb4f585fd99",
   "metadata": {},
   "outputs": [],
   "source": [
    "이 코드를 기반으로 각 결측치는 각 종별, 각 성별의 평균으로 채워넣고 Adelie인지 Gentoo인지 구별할 수 있는 모델 구현"
   ]
  },
  {
   "cell_type": "code",
   "execution_count": 15,
   "id": "db185a45-780f-481f-8a10-0ef9d13d5e28",
   "metadata": {},
   "outputs": [],
   "source": []
  }
 ],
 "metadata": {
  "kernelspec": {
   "display_name": "Python 3 (ipykernel)",
   "language": "python",
   "name": "python3"
  },
  "language_info": {
   "codemirror_mode": {
    "name": "ipython",
    "version": 3
   },
   "file_extension": ".py",
   "mimetype": "text/x-python",
   "name": "python",
   "nbconvert_exporter": "python",
   "pygments_lexer": "ipython3",
   "version": "3.13.2"
  }
 },
 "nbformat": 4,
 "nbformat_minor": 5
}
