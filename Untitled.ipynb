{
 "cells": [
  {
   "cell_type": "code",
   "execution_count": 6,
   "id": "b29741fd-1be0-4717-9459-00c118c06a70",
   "metadata": {},
   "outputs": [],
   "source": [
    "import pandas as pd\n"
   ]
  },
  {
   "cell_type": "code",
   "execution_count": 7,
   "id": "94b605dd-7db9-42ce-bbab-5bc66150abae",
   "metadata": {},
   "outputs": [
    {
     "name": "stderr",
     "output_type": "stream",
     "text": [
      "C:\\Users\\1-04\\AppData\\Local\\Temp\\ipykernel_9952\\695168146.py:8: FutureWarning: A value is trying to be set on a copy of a DataFrame or Series through chained assignment using an inplace method.\n",
      "The behavior will change in pandas 3.0. This inplace method will never work because the intermediate object on which we are setting values always behaves as a copy.\n",
      "\n",
      "For example, when doing 'df[col].method(value, inplace=True)', try using 'df.method({col: value}, inplace=True)' or df[col] = df[col].method(value) instead, to perform the operation inplace on the original object.\n",
      "\n",
      "\n",
      "  df_copy['Age'].fillna(df_copy['Age'].mean(), inplace=True)\n",
      "C:\\Users\\1-04\\AppData\\Local\\Temp\\ipykernel_9952\\695168146.py:9: FutureWarning: A value is trying to be set on a copy of a DataFrame or Series through chained assignment using an inplace method.\n",
      "The behavior will change in pandas 3.0. This inplace method will never work because the intermediate object on which we are setting values always behaves as a copy.\n",
      "\n",
      "For example, when doing 'df[col].method(value, inplace=True)', try using 'df.method({col: value}, inplace=True)' or df[col] = df[col].method(value) instead, to perform the operation inplace on the original object.\n",
      "\n",
      "\n",
      "  df_copy['Fare'].fillna(df_copy['Fare'].mean(), inplace=True)  # Fare도 NaN이 있을 가능성\n"
     ]
    },
    {
     "data": {
      "text/plain": [
       "PassengerId    0\n",
       "Pclass         0\n",
       "Sex_female     0\n",
       "Age            0\n",
       "SibSp          0\n",
       "Parch          0\n",
       "Fare           0\n",
       "dtype: int64"
      ]
     },
     "execution_count": 7,
     "metadata": {},
     "output_type": "execute_result"
    }
   ],
   "source": [
    "sub_df = df.copy()\n",
    "cond1 = sub_df['Sex'] == 'female'\n",
    "cond2 = sub_df['Sex'] == 'male'\n",
    "sub_df.loc[cond1, 'Age'] = sub_df.loc[cond1, 'Age'].fillna(sub_df.loc[cond1, 'Age'].mean())\n",
    "sub_df.loc[cond2, 'Age'] = sub_df.loc[cond2, 'Age'].fillna(sub_df.loc[cond2, 'Age'].mean())\n",
    "\n",
    "# 혹시 남아 있는 NaN 값 처리\n",
    "sub_df['Age'].fillna(sub_df['Age'].mean(), inplace=True)\n",
    "sub_df['Fare'].fillna(sub_df['Fare'].mean(), inplace=True)  # Fare도 NaN이 있을 가능성\n",
    "\n",
    "sub_df = pd.get_dummies(sub_df, columns=['Sex'], dtype=int)  # 수정\n",
    "\n",
    "sub_data = sub_df[['PassengerId', 'Pclass', 'Sex_female', 'Age', 'SibSp', 'Parch', 'Fare']]\n",
    "\n",
    "# target = sub_df[['Survived']]\n",
    "# from sklearn.model_selection import train_test_split\n",
    "# train_input, test_input, train_target, test_target = train_test_split(data, target)\n",
    "\n",
    "# from sklearn.preprocessing import StandardScaler, PolynomialFeatures\n",
    "poly = PolynomialFeatures(degree = 2, include_bias=False)\n",
    "\n"
   ]
  },
  {
   "cell_type": "code",
   "execution_count": 11,
   "id": "f710c6bb-9f44-42da-9612-ad51093036ce",
   "metadata": {},
   "outputs": [
    {
     "ename": "NameError",
     "evalue": "name 'train_scaled' is not defined",
     "output_type": "error",
     "traceback": [
      "\u001b[1;31m---------------------------------------------------------------------------\u001b[0m",
      "\u001b[1;31mNameError\u001b[0m                                 Traceback (most recent call last)",
      "Cell \u001b[1;32mIn[11], line 11\u001b[0m\n\u001b[0;32m      9\u001b[0m \u001b[38;5;66;03m# 랜덤 포레스트 모델 훈련\u001b[39;00m\n\u001b[0;32m     10\u001b[0m rf \u001b[38;5;241m=\u001b[39m RandomForestClassifier()\n\u001b[1;32m---> 11\u001b[0m rf\u001b[38;5;241m.\u001b[39mfit(\u001b[43mtrain_scaled\u001b[49m, train_target\u001b[38;5;241m.\u001b[39mvalues\u001b[38;5;241m.\u001b[39mravel())\n\u001b[0;32m     13\u001b[0m \u001b[38;5;66;03m# 예측 수행\u001b[39;00m\n\u001b[0;32m     14\u001b[0m sub_predictions \u001b[38;5;241m=\u001b[39m rf\u001b[38;5;241m.\u001b[39mpredict(sub_scaled)\n",
      "\u001b[1;31mNameError\u001b[0m: name 'train_scaled' is not defined"
     ]
    }
   ],
   "source": [
    "from sklearn.ensemble import RandomForestClassifier\n",
    "rf = RandomForestClassifier()\n",
    "\n",
    "\n",
    "poly.fit(sub_data)\n",
    "sub_poly = poly.transform(sub_data)\n",
    "sub_scaled = ss.transform(sub_poly)\n",
    "\n",
    "# 랜덤 포레스트 모델 훈련\n",
    "rf = RandomForestClassifier()\n",
    "rf.fit(train_scaled, train_target.values.ravel())\n",
    "\n",
    "# 예측 수행\n",
    "sub_predictions = rf.predict(sub_scaled)\n",
    "\n",
    "# 'Survived' 컬럼을 첫 번째 위치에 추가\n",
    "sub_df_copy.insert(0, 'Survived', sub_predictions)\n",
    "\n",
    "# CSV 파일 저장 (덮어쓰기)\n",
    "sub_df_copy.to_csv('data/test.csv', index=False)"
   ]
  },
  {
   "cell_type": "code",
   "execution_count": null,
   "id": "628a91c0-3247-4b0b-8157-c41f57932800",
   "metadata": {},
   "outputs": [],
   "source": []
  }
 ],
 "metadata": {
  "kernelspec": {
   "display_name": "Python 3 (ipykernel)",
   "language": "python",
   "name": "python3"
  },
  "language_info": {
   "codemirror_mode": {
    "name": "ipython",
    "version": 3
   },
   "file_extension": ".py",
   "mimetype": "text/x-python",
   "name": "python",
   "nbconvert_exporter": "python",
   "pygments_lexer": "ipython3",
   "version": "3.13.2"
  }
 },
 "nbformat": 4,
 "nbformat_minor": 5
}
