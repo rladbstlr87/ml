{
 "cells": [
  {
   "cell_type": "markdown",
   "id": "467709a4-9de9-4a62-b9d0-d590e74874a4",
   "metadata": {},
   "source": [
    "# 딥러닝"
   ]
  },
  {
   "cell_type": "code",
   "execution_count": null,
   "id": "dfda445d-1e97-44c4-977d-da360bfb0ad8",
   "metadata": {},
   "outputs": [],
   "source": [
    "## Mnist\n",
    "- 데이터셋 종류임"
   ]
  }
 ],
 "metadata": {
  "kernelspec": {
   "display_name": "Python 3 (ipykernel)",
   "language": "python",
   "name": "python3"
  },
  "language_info": {
   "codemirror_mode": {
    "name": "ipython",
    "version": 3
   },
   "file_extension": ".py",
   "mimetype": "text/x-python",
   "name": "python",
   "nbconvert_exporter": "python",
   "pygments_lexer": "ipython3",
   "version": "3.13.2"
  }
 },
 "nbformat": 4,
 "nbformat_minor": 5
}
