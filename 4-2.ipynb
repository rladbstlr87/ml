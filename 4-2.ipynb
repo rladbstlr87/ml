{
 "cells": [
  {
   "cell_type": "markdown",
   "id": "aaeb7939-9c0d-4e59-b5f3-fa7dbe7702a6",
   "metadata": {},
   "source": [
    "# 확률적 경사 하강법 (SGD, Stochastic Gradient Descent)\n",
    "- 점진적 학습 : 훈렪나 모델을 버리지 않고 새로운 데이터에 대해서만 조금씩 더 훈련하여 앞서 학습한 데이터를 까먹을 일이 없게끔 하는 것\n",
    "- 완전히 똑같은 데이터라도 한 번에 데이터를 처리하는 방식(배치 학습)과 점진적으로 학습하는 방식(확률적 경사 하강법, SGD)에는 차이가 발생할 수 있다. 이 두 방식은 학습의 속도, 정확도, 최종 모델의 성능에 영향을 줄 수 있다."
   ]
  },
  {
   "cell_type": "code",
   "execution_count": 4,
   "id": "1f3cd282-07ea-4c51-a7a5-a39f45514225",
   "metadata": {},
   "outputs": [],
   "source": [
    "import pandas as pd\n",
    "from sklearn.model_selection import train_test_split\n",
    "\n",
    "df = pd.read_csv('data/Fish.csv')\n",
    "fish_input = df[['Weight', 'Length2', 'Length3', 'Height', 'Width']]\n",
    "fish_target = df[['Species']]\n",
    "x_input, y_input, x_target, y_target = train_test_split(fish_input, fish_target)"
   ]
  },
  {
   "cell_type": "code",
   "execution_count": 5,
   "id": "c0fb6a81-5c7f-4363-a2af-1a6f973ce9f6",
   "metadata": {},
   "outputs": [],
   "source": [
    "# 데이터 정규화\n",
    "from sklearn.preprocessing import StandardScaler\n",
    "\n",
    "ss = StandardScaler()\n",
    "ss.fit(x_input)\n",
    "train_scaled = ss.transform(x_input)\n",
    "test_scaled = ss.transform(y_input)"
   ]
  },
  {
   "cell_type": "code",
   "execution_count": 8,
   "id": "92efccce-edce-4d7a-9d2c-401ff9596ef5",
   "metadata": {},
   "outputs": [
    {
     "name": "stdout",
     "output_type": "stream",
     "text": [
      "0.7563025210084033\n",
      "0.7\n"
     ]
    },
    {
     "name": "stderr",
     "output_type": "stream",
     "text": [
      "C:\\Users\\1-04\\Desktop\\DAMF2\\ML\\venv\\Lib\\site-packages\\sklearn\\utils\\validation.py:1408: DataConversionWarning: A column-vector y was passed when a 1d array was expected. Please change the shape of y to (n_samples, ), for example using ravel().\n",
      "  y = column_or_1d(y, warn=True)\n",
      "C:\\Users\\1-04\\Desktop\\DAMF2\\ML\\venv\\Lib\\site-packages\\sklearn\\linear_model\\_stochastic_gradient.py:738: ConvergenceWarning: Maximum number of iteration reached before convergence. Consider increasing max_iter to improve the fit.\n",
      "  warnings.warn(\n"
     ]
    }
   ],
   "source": [
    "from sklearn.linear_model import SGDClassifier\n",
    "sc = SGDClassifier(loss='log_loss', max_iter=10)\n",
    "sc.fit(train_scaled, x_target)\n",
    "\n",
    "print(sc.score(train_scaled, x_target))\n",
    "print(sc.score(test_scaled, y_target))"
   ]
  },
  {
   "cell_type": "code",
   "execution_count": 49,
   "id": "b95a1f9e-0ef0-4f7e-a504-8f0c2020e35d",
   "metadata": {},
   "outputs": [
    {
     "name": "stdout",
     "output_type": "stream",
     "text": [
      "0.8571428571428571\n",
      "0.8\n"
     ]
    },
    {
     "name": "stderr",
     "output_type": "stream",
     "text": [
      "C:\\Users\\1-04\\Desktop\\DAMF2\\ML\\venv\\Lib\\site-packages\\sklearn\\utils\\validation.py:1408: DataConversionWarning: A column-vector y was passed when a 1d array was expected. Please change the shape of y to (n_samples, ), for example using ravel().\n",
      "  y = column_or_1d(y, warn=True)\n"
     ]
    }
   ],
   "source": [
    "# 여기서부터 점진적 학습으로 이전데이터 버리지 않음\n",
    "sc.partial_fit(train_scaled, x_target)\n",
    "\n",
    "print(sc.score(train_scaled, x_target))\n",
    "print(sc.score(test_scaled, y_target))"
   ]
  },
  {
   "cell_type": "markdown",
   "id": "83d2ecf2-c1cc-4ee8-9284-274bd07342e6",
   "metadata": {},
   "source": [
    "![에포크 횟수에 따른 과대적합](https://thebook.io/img/080324/171_1.jpg)\n",
    "- 에포크를 무조건 많이 한다고 좋은건 아니다. 규제를 강하게 해서 마냥 좋은게 아니듯이"
   ]
  },
  {
   "cell_type": "code",
   "execution_count": null,
   "id": "447d8b35-8aaa-41c6-97ae-ba40cc796a6d",
   "metadata": {},
   "outputs": [],
   "source": []
  }
 ],
 "metadata": {
  "kernelspec": {
   "display_name": "Python 3 (ipykernel)",
   "language": "python",
   "name": "python3"
  },
  "language_info": {
   "codemirror_mode": {
    "name": "ipython",
    "version": 3
   },
   "file_extension": ".py",
   "mimetype": "text/x-python",
   "name": "python",
   "nbconvert_exporter": "python",
   "pygments_lexer": "ipython3",
   "version": "3.13.2"
  }
 },
 "nbformat": 4,
 "nbformat_minor": 5
}
