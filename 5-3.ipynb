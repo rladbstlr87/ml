{
 "cells": [
  {
   "cell_type": "markdown",
   "id": "e0a296ca-977c-49e7-8d8c-bdf0fb919e8b",
   "metadata": {},
   "source": [
    "# 트리의 앙상블\n",
    "- tree들이 여러개 묶여잇는 걸 숲이라고 한다 : 랜덤 포레스트\n",
    "- 정형데이터에 대해 성능이 좋다\n",
    "- 로또 추첨에서 나온 번호를 다시 기계 안에 넣어서 추첨하는 것처럼, 중복될 수도 있다는 특징있음"
   ]
  },
  {
   "cell_type": "markdown",
   "id": "7c2d2b3d-e16d-4624-9450-cbbc043ee4c9",
   "metadata": {},
   "source": [
    "## 정형데이터\n",
    "- 표, csv, 데이터베이스, 엑셀..."
   ]
  },
  {
   "cell_type": "markdown",
   "id": "3c63af6a-b929-4b44-9de2-14af0dabcef8",
   "metadata": {},
   "source": [
    "## 비정형데이터\n",
    "- 쇼핑몰의 주문 리뷰, 댓글, 사진들, 디지털 음악"
   ]
  },
  {
   "cell_type": "code",
   "execution_count": 5,
   "id": "f7d8c7fa-16f3-4bc0-950d-a909ba144aea",
   "metadata": {},
   "outputs": [],
   "source": [
    "import pandas as pd\n",
    "import numpy as np\n",
    "df = pd.read_csv('https://bit.ly/wine_csv_data')\n",
    "data = df[['alcohol', 'sugar', 'pH']]\n",
    "target = df[['class']]\n",
    "\n",
    "from sklearn.model_selection import train_test_split\n",
    "train_input, test_input, train_target, test_target = train_test_split(data, target)"
   ]
  },
  {
   "cell_type": "code",
   "execution_count": 8,
   "id": "5057f1b1-d723-4973-974b-83c95585f76d",
   "metadata": {},
   "outputs": [],
   "source": [
    "# 레드와인인지 화이트와인인지를 분류하는 모델\n",
    "from sklearn.model_selection import cross_validate # 데이터를 여러개 주기 위해서 불러옴\n",
    "from sklearn.ensemble import RandomForestClassifier\n",
    "rf = RandomForestClassifier(n_jobs=-1)\n",
    "\n",
    "scores = cross_validate(rf, train_input, train_target, return_train_score=True, n_jobs=-1) # rf 모델에 점수를 줄거야"
   ]
  },
  {
   "cell_type": "code",
   "execution_count": 10,
   "id": "40443778-7d76-4754-a066-aa498e29451d",
   "metadata": {},
   "outputs": [
    {
     "name": "stdout",
     "output_type": "stream",
     "text": [
      "{'fit_time': array([0.34221959, 0.36049151, 0.31162   , 0.23699784, 0.23893738]), 'score_time': array([0.02871609, 0.03071404, 0.0322113 , 0.03004837, 0.03188038]), 'test_score': array([0.89435897, 0.9025641 , 0.90041068, 0.88398357, 0.87371663]), 'train_score': array([0.99717732, 0.99769053, 0.99794767, 0.99846075, 0.99769112])}\n"
     ]
    }
   ],
   "source": [
    "print(scores) # 훈련세트에 과대적합 되어있긴 하다"
   ]
  },
  {
   "cell_type": "code",
   "execution_count": 13,
   "id": "fe1c82e5-b439-4a31-8bab-1c0eed4ece77",
   "metadata": {},
   "outputs": [
    {
     "name": "stderr",
     "output_type": "stream",
     "text": [
      "C:\\Users\\1-04\\Desktop\\DAMF2\\ML\\venv\\Lib\\site-packages\\sklearn\\base.py:1389: DataConversionWarning: A column-vector y was passed when a 1d array was expected. Please change the shape of y to (n_samples,), for example using ravel().\n",
      "  return fit_method(estimator, *args, **kwargs)\n"
     ]
    },
    {
     "data": {
      "text/plain": [
       "array([0.2267278 , 0.50025744, 0.27301476])"
      ]
     },
     "execution_count": 13,
     "metadata": {},
     "output_type": "execute_result"
    }
   ],
   "source": [
    "rf.fit(train_input, train_target)\n",
    "rf.feature_importances_ # 중요도를 숫자화 시킨 것"
   ]
  },
  {
   "cell_type": "markdown",
   "id": "83c4486d-2192-45ed-a766-bd52fda4ca3a",
   "metadata": {},
   "source": [
    "- 각 수치는 알콜 당도 산도의 중요도이다\n",
    "- == 당도의 중요도가 높다\n",
    "\n",
    "- 중복이 되다보면 한 번도 선택되지 않은 데이터가 생기기 마련인데 이것을 OOB라고 한다"
   ]
  },
  {
   "cell_type": "code",
   "execution_count": 14,
   "id": "315d4122-5449-4eb7-a112-1584ad4e0e9b",
   "metadata": {},
   "outputs": [
    {
     "name": "stderr",
     "output_type": "stream",
     "text": [
      "C:\\Users\\1-04\\Desktop\\DAMF2\\ML\\venv\\Lib\\site-packages\\sklearn\\base.py:1389: DataConversionWarning: A column-vector y was passed when a 1d array was expected. Please change the shape of y to (n_samples,), for example using ravel().\n",
      "  return fit_method(estimator, *args, **kwargs)\n"
     ]
    },
    {
     "data": {
      "text/plain": [
       "0.895320197044335"
      ]
     },
     "execution_count": 14,
     "metadata": {},
     "output_type": "execute_result"
    }
   ],
   "source": [
    "rf = RandomForestClassifier(oob_score=True, n_jobs=-1)\n",
    "rf.fit(train_input, train_target)\n",
    "rf.oob_score_"
   ]
  },
  {
   "cell_type": "markdown",
   "id": "36772d2a-9232-4524-909e-fc3ea4eafbaf",
   "metadata": {},
   "source": [
    "## 엑스트라 트리\n",
    "- 속도가 빠르다\n",
    "- 노드를 나누는데 고민하는 시간이 줄고 일단 많이 테스트 해보는게 목적이라..\n",
    "- 무작위로 특성을 뽑아서 테스트 한다. 성능이 조금 낮을 수는 있음"
   ]
  },
  {
   "cell_type": "code",
   "execution_count": 16,
   "id": "26b957c1-68c4-4b67-a428-a4f5affc1305",
   "metadata": {},
   "outputs": [
    {
     "name": "stdout",
     "output_type": "stream",
     "text": [
      "{'fit_time': array([0.24813962, 0.24755144, 0.25635791, 0.18295169, 0.1830678 ]), 'score_time': array([0.03040814, 0.02979326, 0.02935433, 0.03009534, 0.02900958]), 'test_score': array([0.88615385, 0.90564103, 0.89425051, 0.89014374, 0.87166324]), 'train_score': array([0.99717732, 0.99769053, 0.99794767, 0.99846075, 0.99769112])}\n"
     ]
    }
   ],
   "source": [
    "from sklearn.ensemble import ExtraTreesClassifier\n",
    "et = ExtraTreesClassifier(n_jobs=-1)\n",
    "\n",
    "scores = cross_validate(et, train_input, train_target, return_train_score=True, n_jobs=-1)\n",
    "print(scores)"
   ]
  },
  {
   "cell_type": "markdown",
   "id": "9de3c830-bcb1-459b-a167-13cd34c9dbbc",
   "metadata": {},
   "source": [
    "## 그레디언트 부스팅\n",
    "- 깊이가 얕은 결정트리를 많이 사용\n",
    "- 스무고개에서 질문을 적게 하는거고 그래서 과대적합에 강하다\n",
    "- 경사 하강법을 적용한 모델"
   ]
  },
  {
   "cell_type": "code",
   "execution_count": 19,
   "id": "841c3d31-a4eb-4904-9261-2c7b550620d0",
   "metadata": {},
   "outputs": [
    {
     "name": "stdout",
     "output_type": "stream",
     "text": [
      "{'fit_time': array([0.215698  , 0.21357632, 0.33059621, 0.33632588, 0.33815002]), 'score_time': array([0.00355268, 0.00402761, 0.00520349, 0.0054338 , 0.00511551]), 'test_score': array([0.87897436, 0.87179487, 0.88193018, 0.86447639, 0.87166324]), 'train_score': array([0.89042853, 0.8894021 , 0.88532581, 0.89276552, 0.88917394])}\n"
     ]
    }
   ],
   "source": [
    "from sklearn.ensemble import GradientBoostingClassifier\n",
    "gb = GradientBoostingClassifier() # 나무그루 기본 100그루 말고 500그루 하려면 `n_estimators=500` 추가\n",
    "\n",
    "scores = cross_validate(gb, train_input, train_target, return_train_score=True, n_jobs=-1)\n",
    "print(scores)"
   ]
  },
  {
   "cell_type": "markdown",
   "id": "56aa8a1b-ce26-40b4-88c4-c622ed36ded0",
   "metadata": {},
   "source": [
    "## 히스토그램 기반 그레이디언트 부스팅\n",
    "- 노드를 분할할 때 최적의 분할을 매우 빠르게 찾을 수 있다\n",
    "- 알콜 8.1~8.3까지 한 그룹으로 묶는 방식"
   ]
  },
  {
   "cell_type": "code",
   "execution_count": 20,
   "id": "e1817f51-b2f1-4487-9046-d787e7639076",
   "metadata": {},
   "outputs": [
    {
     "name": "stdout",
     "output_type": "stream",
     "text": [
      "{'fit_time': array([0.12871623, 0.28470206, 0.27638388, 0.28162861, 0.27737927]), 'score_time': array([0.01327491, 0.01715875, 0.01923728, 0.01855493, 0.01775575]), 'test_score': array([0.88512821, 0.87589744, 0.89527721, 0.87268994, 0.86858316]), 'train_score': array([0.93122915, 0.93174237, 0.93714726, 0.93714726, 0.93996921])}\n"
     ]
    }
   ],
   "source": [
    "from sklearn.ensemble import HistGradientBoostingClassifier\n",
    "hgb = HistGradientBoostingClassifier() # \n",
    "\n",
    "scores = cross_validate(hgb, train_input, train_target, return_train_score=True, n_jobs=-1)\n",
    "print(scores)"
   ]
  },
  {
   "cell_type": "markdown",
   "id": "6d761918-39b0-42e6-b860-d654fa8b3b32",
   "metadata": {},
   "source": [
    "permutation_importance() 함수를 사용하면 특성값을 랜덤하게 섞는데 섞어서 점수가 비슷하면 중요하지 않은 특성이라고 정할 수 있다\n",
    "- 어떤 특성이 가장 중요한가를 나타낸다. 수치가 높을수록 덜중요"
   ]
  },
  {
   "cell_type": "code",
   "execution_count": 21,
   "id": "c0f9988f-fcb6-4bff-9d21-af23db7f95e2",
   "metadata": {},
   "outputs": [
    {
     "name": "stderr",
     "output_type": "stream",
     "text": [
      "C:\\Users\\1-04\\Desktop\\DAMF2\\ML\\venv\\Lib\\site-packages\\sklearn\\utils\\validation.py:1408: DataConversionWarning: A column-vector y was passed when a 1d array was expected. Please change the shape of y to (n_samples, ), for example using ravel().\n",
      "  y = column_or_1d(y, warn=True)\n"
     ]
    },
    {
     "name": "stdout",
     "output_type": "stream",
     "text": [
      "{'fit_time': array([0.12871623, 0.28470206, 0.27638388, 0.28162861, 0.27737927]), 'score_time': array([0.01327491, 0.01715875, 0.01923728, 0.01855493, 0.01775575]), 'test_score': array([0.88512821, 0.87589744, 0.89527721, 0.87268994, 0.86858316]), 'train_score': array([0.93122915, 0.93174237, 0.93714726, 0.93714726, 0.93996921])}\n"
     ]
    }
   ],
   "source": [
    "from sklearn.inspection import permutation_importance\n",
    "hgb.fit(train_input, train_target)\n",
    "\n",
    "# scores = cross_validate(hgb, train_input, train_target, return_train_score=True, n_jobs=-1)\n",
    "print(scores)"
   ]
  },
  {
   "cell_type": "code",
   "execution_count": null,
   "id": "db615c32-26f7-410f-95b8-17c587bbf098",
   "metadata": {},
   "outputs": [],
   "source": []
  }
 ],
 "metadata": {
  "kernelspec": {
   "display_name": "Python 3 (ipykernel)",
   "language": "python",
   "name": "python3"
  },
  "language_info": {
   "codemirror_mode": {
    "name": "ipython",
    "version": 3
   },
   "file_extension": ".py",
   "mimetype": "text/x-python",
   "name": "python",
   "nbconvert_exporter": "python",
   "pygments_lexer": "ipython3",
   "version": "3.13.2"
  }
 },
 "nbformat": 4,
 "nbformat_minor": 5
}
